{
 "cells": [
  {
   "cell_type": "code",
   "execution_count": 1,
   "metadata": {},
   "outputs": [],
   "source": [
    "import matplotlib.pyplot as plt\n",
    "import numpy as np\n",
    "import xlrd\n",
    "from mpmath import mpf, mp"
   ]
  },
  {
   "cell_type": "code",
   "execution_count": 2,
   "metadata": {},
   "outputs": [],
   "source": [
    "mp.dps = 100"
   ]
  },
  {
   "cell_type": "code",
   "execution_count": 3,
   "metadata": {},
   "outputs": [],
   "source": [
    "path = \"dataset_NB.txt\""
   ]
  },
  {
   "cell_type": "code",
   "execution_count": 4,
   "metadata": {},
   "outputs": [],
   "source": [
    "data = []\n",
    "with open(path) as f:\n",
    "    data.append(f.readlines())"
   ]
  },
  {
   "cell_type": "code",
   "execution_count": 5,
   "metadata": {},
   "outputs": [
    {
     "data": {
      "text/plain": [
       "1000"
      ]
     },
     "execution_count": 5,
     "metadata": {},
     "output_type": "execute_result"
    }
   ],
   "source": [
    "data1 = data[0]\n",
    "len(data1)"
   ]
  },
  {
   "cell_type": "code",
   "execution_count": 6,
   "metadata": {},
   "outputs": [],
   "source": [
    "punc = '''!()-[]{};:'\"\\, <>./?@#$%^&*_~'''"
   ]
  },
  {
   "cell_type": "code",
   "execution_count": 7,
   "metadata": {},
   "outputs": [],
   "source": [
    "def token(data):\n",
    "    \n",
    "    data_n = []\n",
    "    \n",
    "    l = len(data)\n",
    "    \n",
    "    for i in range(l):\n",
    "        lis = []\n",
    "        string = data1[i].split()\n",
    "        yi = [string[-1]]\n",
    "        slen = len(string)\n",
    "        for j in range(slen - 1):\n",
    "            s1 = \"\"\n",
    "            if string[j] not in punc:\n",
    "                for e in string[j]:\n",
    "                    if e not in punc:\n",
    "                        s1 = s1 + e\n",
    "            lis.append(s1)\n",
    "                                              \n",
    "        data_n.append([lis, yi])\n",
    "        \n",
    "    data_np = np.array(data_n)\n",
    "        \n",
    "    return data_np"
   ]
  },
  {
   "cell_type": "code",
   "execution_count": 8,
   "metadata": {},
   "outputs": [],
   "source": [
    "data_np = token(data1)"
   ]
  },
  {
   "cell_type": "code",
   "execution_count": 9,
   "metadata": {},
   "outputs": [
    {
     "data": {
      "text/plain": [
       "array([list(['So', 'there', 'is', 'no', 'way', 'for', 'me', 'to', 'plug', 'it', 'in', 'here', 'in', 'the', 'US', 'unless', 'I', 'go', 'by', 'a', 'converter']),\n",
       "       list(['0'])], dtype=object)"
      ]
     },
     "execution_count": 9,
     "metadata": {},
     "output_type": "execute_result"
    }
   ],
   "source": [
    "data_np[0]"
   ]
  },
  {
   "cell_type": "code",
   "execution_count": 10,
   "metadata": {},
   "outputs": [
    {
     "data": {
      "text/plain": [
       "(1000, 2)"
      ]
     },
     "execution_count": 10,
     "metadata": {},
     "output_type": "execute_result"
    }
   ],
   "source": [
    "data_np.shape"
   ]
  },
  {
   "cell_type": "code",
   "execution_count": 11,
   "metadata": {},
   "outputs": [],
   "source": [
    "def dict_w(data_tr, alpha):\n",
    "    \n",
    "    dic_w = {}\n",
    "    ld = len(data_tr)\n",
    "    N = 0\n",
    "    Y = 0\n",
    "    No = 0\n",
    "    spam = 0\n",
    "    nspam = 0\n",
    "    for i in range(ld):\n",
    "        data = data_tr[i]\n",
    "        for a in data:\n",
    "            yl = a[1][0]\n",
    "            if yl == \"0\":\n",
    "                nspam = nspam + 1\n",
    "            elif yl == \"1\":\n",
    "                spam = spam + 1\n",
    "            wl = a[0]\n",
    "            for word in wl:\n",
    "                N = N + 1\n",
    "                if word not in dic_w.keys():\n",
    "                    if yl == \"0\":\n",
    "                        dic_w[word] = [1, 0, 1]\n",
    "                    elif yl == \"1\":\n",
    "                        dic_w[word] = [0, 1, 1]\n",
    "                else:\n",
    "                    if yl == \"0\":\n",
    "                        dic_w[word][0] = dic_w[word][0] + 1\n",
    "                    elif yl == \"1\":\n",
    "                        dic_w[word][1] = dic_w[word][1] + 1\n",
    "                    dic_w[word][2] = dic_w[word][2] + 1\n",
    "    \n",
    "                    \n",
    "    for word in dic_w.keys():\n",
    "        No = No + dic_w[word][0]\n",
    "        Y = Y + dic_w[word][1]\n",
    "        \n",
    "    for word in dic_w.keys():\n",
    "        dic_w[word][0] = (dic_w[word][0] + alpha)/(No + len(dic_w)*alpha)\n",
    "        dic_w[word][1] = (dic_w[word][1] + alpha)/(Y + len(dic_w)*alpha)\n",
    "        dic_w[word][2] = (dic_w[word][2] + alpha)/(N + len(dic_w)*alpha)\n",
    "    \n",
    "    lisp = [dic_w, spam, nspam]\n",
    "\n",
    "    return lisp"
   ]
  },
  {
   "cell_type": "code",
   "execution_count": 12,
   "metadata": {},
   "outputs": [],
   "source": [
    "def k_val_fit(data_trial, k, alpha):\n",
    "\n",
    "    np.random.shuffle(data_trial)\n",
    "    data_g = np.array_split(data_trial, k)\n",
    "    nb_accuracy = {}\n",
    "    nbtr_accuracy = {}\n",
    "    for i in range(k):\n",
    "        data_tes = data_g[i]\n",
    "        data_tr = []\n",
    "        lenm = 0\n",
    "        for j in range(k):\n",
    "            if j!=i:\n",
    "                data_tr.append(data_g[j])\n",
    "                lenm = lenm + len(data_g[j])\n",
    "        lisp = dict_w(data_tr, alpha)\n",
    "        dicti_w = lisp[0]\n",
    "        spam = lisp[1]\n",
    "        nspam = lisp[2]\n",
    "        P0 = mpf(nspam)/(lenm)\n",
    "        P1 = mpf(spam)/(lenm)\n",
    "        count = 0\n",
    "            \n",
    "        for ar in data_tes:   \n",
    "            ytrue = float(ar[1][0])\n",
    "            wlt = ar[0]\n",
    "            Pw0 = 1\n",
    "            Pw1 = 1\n",
    "            Pw = 1\n",
    "            for word in wlt:\n",
    "                if word in dicti_w.keys():\n",
    "                    lisw = dicti_w[word]\n",
    "                    Pw0 = Pw0*mpf(lisw[0])\n",
    "                    Pw1 = Pw1*mpf(lisw[1])\n",
    "                    Pw = Pw*mpf(lisw[2])\n",
    "                else:\n",
    "                    Pw0 = Pw0*(alpha/(alpha*len(dicti_w)))\n",
    "                    Pw0 = Pw1*(alpha/(alpha*len(dicti_w)))\n",
    "                    Pw = Pw*(alpha/(alpha*len(dicti_w)))\n",
    "                    \n",
    "            Py0 = (mpf(Pw0)*mpf(P0))/mpf(Pw)\n",
    "            Py1 = (mpf(Pw1)*mpf(P1))/mpf(Pw)\n",
    "            py0 = mpf(Py0)/(mpf(Py0) + mpf(Py1))\n",
    "            py1 = mpf(Py1)/(mpf(Py0) + mpf(Py1))\n",
    "            \n",
    "            if py0>py1:\n",
    "                ypred = float(0)\n",
    "            elif py1>=py0:\n",
    "                ypred = float(1)\n",
    "            if ypred == ytrue:\n",
    "                count = count + 1\n",
    "\n",
    "        accuracy = (count/len(data_tes))*100\n",
    "        stringi = \"test\" + str(i)\n",
    "        nb_accuracy[stringi] = accuracy\n",
    "    \n",
    "    return nb_accuracy"
   ]
  },
  {
   "cell_type": "code",
   "execution_count": 13,
   "metadata": {},
   "outputs": [
    {
     "name": "stdout",
     "output_type": "stream",
     "text": [
      "Division by zero\n"
     ]
    }
   ],
   "source": [
    "alphas = [0.0, 0.1, 0.2, 0.3, 0.4, 0.5, 0.6, 0.7, 0.8, 0.9, 1.0]\n",
    "accuracies_alpha = []\n",
    "accuracies = []\n",
    "for alpha in alphas:\n",
    "    maxx = 0.0\n",
    "    try:\n",
    "        nb_accu = k_val_fit(data_np, 7, alpha)\n",
    "        for key in nb_accu.keys():\n",
    "            if nb_accu[key]>maxx:\n",
    "                maxx = nb_accu[key]\n",
    "        accuracies_alpha.append([key, alpha, maxx])\n",
    "        accuracies.append(maxx)\n",
    "    except ZeroDivisionError as e:\n",
    "        accuracies_alpha.append([alpha, maxx])\n",
    "        accuracies.append(maxx)\n",
    "        print(\"Division by zero\")"
   ]
  },
  {
   "cell_type": "code",
   "execution_count": 14,
   "metadata": {},
   "outputs": [
    {
     "name": "stdout",
     "output_type": "stream",
     "text": [
      "[0.0, 0.0]\n",
      "['test6', 0.1, 66.90140845070422]\n",
      "['test6', 0.2, 67.13286713286713]\n",
      "['test6', 0.3, 67.83216783216784]\n",
      "['test6', 0.4, 72.53521126760563]\n",
      "['test6', 0.5, 64.33566433566433]\n",
      "['test6', 0.6, 64.7887323943662]\n",
      "['test6', 0.7, 66.43356643356644]\n",
      "['test6', 0.8, 65.03496503496503]\n",
      "['test6', 0.9, 66.43356643356644]\n",
      "['test6', 1.0, 64.33566433566433]\n"
     ]
    }
   ],
   "source": [
    "for i in range(len(accuracies_alpha)):\n",
    "    print(accuracies_alpha[i])"
   ]
  },
  {
   "cell_type": "code",
   "execution_count": 15,
   "metadata": {},
   "outputs": [
    {
     "data": {
      "image/png": "[encoded data removed]",
      "text/plain": [
       "<Figure size 720x720 with 1 Axes>"
      ]
     },
     "metadata": {
      "needs_background": "light"
     },
     "output_type": "display_data"
    }
   ],
   "source": [
    "fig = plt.figure(figsize = (10, 10))\n",
    "plt.plot(alphas, accuracies, c = \"b\", alpha = 0.3)\n",
    "plt.xlabel(\"alpha\")\n",
    "plt.ylabel(\"accuracy\")\n",
    "plt.title(\"Accuracies for varying Laplace Smoothing parameter\")\n",
    "for i, accu in enumerate(accuracies):\n",
    "    plt.annotate(round(accu, 2), (alphas[i], accuracies[i]))\n",
    "plt.show()"
   ]
  },
  {
   "cell_type": "code",
   "execution_count": null,
   "metadata": {},
   "outputs": [],
   "source": []
  }
 ],
 "metadata": {
  "kernelspec": {
   "display_name": "Python 3",
   "language": "python",
   "name": "python3"
  },
  "language_info": {
   "codemirror_mode": {
    "name": "ipython",
    "version": 3
   },
   "file_extension": ".py",
   "mimetype": "text/x-python",
   "name": "python",
   "nbconvert_exporter": "python",
   "pygments_lexer": "ipython3",
   "version": "3.7.3"
  }
 },
 "nbformat": 4,
 "nbformat_minor": 4
}
